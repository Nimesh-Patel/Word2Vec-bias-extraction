{
 "cells": [
  {
   "cell_type": "markdown",
   "metadata": {},
   "source": [
    "Notebook to accompany article by Arseniev-Koehler and Foster, \"Teaching an algorithm what it means to be fat: machine-learning as a model for cultural learning.\" Code last checked on Python 3 in Windows 11/27/2019. Please cite our paper or [GitHub repo](https://github.com/arsena-k/Word2Vec-bias-extraction) if reused. "
   ]
  },
  {
   "cell_type": "markdown",
   "metadata": {},
   "source": [
    "# Word2Vec Model Training, Perfomance Evaluation and Exploration"
   ]
  },
  {
   "cell_type": "markdown",
   "metadata": {},
   "source": [
    "**Description:** In this Jupyter notebook, we train a Word2Vec model of text data using Gensim.  Word2Vec models words in a text dataset as numeric vectors. For a review of Word2Vec check out this [blog post](http://mccormickml.com/2016/04/19/word2vec-tutorial-the-skip-gram-model/). We also include code in this notebook to evaluate model quality on the Google Analogy Test on any trained Word2Vec model, and explore any trained Word2Vec model."
   ]
  },
  {
   "cell_type": "markdown",
   "metadata": {},
   "source": [
    "**Table of Contents**\n",
    "\n",
    "* Part 1: [Train a Word2Vec model on some text data](#Train)\n",
    "* Part 2: [Test your model's quality using the Google Analogy Test](#Accuracy)\n",
    "* Part 3: [Explore and visualize your Word2Vec model](#Results)"
   ]
  },
  {
   "cell_type": "markdown",
   "metadata": {},
   "source": [
    "**Tips for getting started:**\n",
    "* Suggestions along the way for dataset to use for Part 1 (training), or a pre-trained model to jump into model accuracy and exploration (Part 2) and skip training in Part 1. \n",
    "* This notebook was written in Python 3\n",
    "* Install needed packages, especially make sure you have installed Cython\n",
    "* Know where this Jupyter Notebook is saved on your computer. That folder will be called your \"working directory\", and it is where we will keep all models and data files. If you save a model, it will save there. If you download a dataset or pretrained model, you should save the file to there: when loading in files, Juputer Notebook will look in your working directory for that file by default. \n"
   ]
  },
  {
   "cell_type": "markdown",
   "metadata": {},
   "source": [
    "Import external functions and packages"
   ]
  },
  {
   "cell_type": "code",
   "execution_count": 1,
   "metadata": {},
   "outputs": [],
   "source": [
    "import cython #ENSURE cython package is installed on computer/canopy\n",
    "from gensim.models import phrases \n",
    "from gensim import corpora, models, similarities #calc all similarities at once, from http://radimrehurek.com/gensim/tut3.html\n",
    "from sklearn.metrics.pairwise import cosine_similarity\n",
    "from scipy import spatial\n",
    "from statistics import mean\n",
    "from gensim.models import Word2Vec, KeyedVectors\n",
    "import pandas as pd\n",
    "from string import ascii_letters, digits\n",
    "from sklearn.manifold import TSNE\n",
    "import matplotlib.pyplot as plt\n",
    "%matplotlib inline\n",
    "from gensim.test.utils import datapath\n",
    "#np.set_printoptions(threshold=np.inf) #set to print full output\n",
    "\n",
    "#if you don't have any of these libraries, you will need to install them first with conda install or pip install"
   ]
  },
  {
   "cell_type": "markdown",
   "metadata": {},
   "source": [
    "<a id='Train'></a> \n",
    "## Part 1: Train a Word2Vec Model, Explore Hyperparameters"
   ]
  },
  {
   "cell_type": "markdown",
   "metadata": {},
   "source": [
    "#### Don't have a dataset? \n",
    "\n",
    "Gensim has a few free suggestions, such as the [Text8 Corpus](https://radimrehurek.com/gensim/models/word2vec.html#gensim.models.word2vec.Text8Corpus)\n",
    "    \n",
    "Or, download this free Kaggle dataset of 3 million news headlines from the [Examiner](https://www.kaggle.com/therohk/examine-the-examiner/version/3)  and restructure for Word2Vec using code below.\n",
    "\n",
    "Note that in the paper, we train our model around 100,000 New York Times articles on obesity and health, published between 1980-2016. We provide details to get and explore our trained model in Part 2. "
   ]
  },
  {
   "cell_type": "code",
   "execution_count": 2,
   "metadata": {},
   "outputs": [
    {
     "data": {
      "text/html": [
       "<div>\n",
       "<style scoped>\n",
       "    .dataframe tbody tr th:only-of-type {\n",
       "        vertical-align: middle;\n",
       "    }\n",
       "\n",
       "    .dataframe tbody tr th {\n",
       "        vertical-align: top;\n",
       "    }\n",
       "\n",
       "    .dataframe thead th {\n",
       "        text-align: right;\n",
       "    }\n",
       "</style>\n",
       "<table border=\"1\" class=\"dataframe\">\n",
       "  <thead>\n",
       "    <tr style=\"text-align: right;\">\n",
       "      <th></th>\n",
       "      <th>publish_date</th>\n",
       "      <th>headline_tokens</th>\n",
       "    </tr>\n",
       "  </thead>\n",
       "  <tbody>\n",
       "    <tr>\n",
       "      <th>0</th>\n",
       "      <td>20100101</td>\n",
       "      <td>100 most anticipated books releasing 2010</td>\n",
       "    </tr>\n",
       "    <tr>\n",
       "      <th>1</th>\n",
       "      <td>20100101</td>\n",
       "      <td>10 best films of 2009 what s on your list</td>\n",
       "    </tr>\n",
       "    <tr>\n",
       "      <th>2</th>\n",
       "      <td>20100101</td>\n",
       "      <td>10 days of free admission at lan su chinese ga...</td>\n",
       "    </tr>\n",
       "    <tr>\n",
       "      <th>3</th>\n",
       "      <td>20100101</td>\n",
       "      <td>10 playstation games to watch out for 2010</td>\n",
       "    </tr>\n",
       "    <tr>\n",
       "      <th>4</th>\n",
       "      <td>20100101</td>\n",
       "      <td>10 resolutions for a happy new year for you an...</td>\n",
       "    </tr>\n",
       "    <tr>\n",
       "      <th>5</th>\n",
       "      <td>20100101</td>\n",
       "      <td>10 tips to a healthy diet that works</td>\n",
       "    </tr>\n",
       "    <tr>\n",
       "      <th>6</th>\n",
       "      <td>20100101</td>\n",
       "      <td>10 tips to avoid the drive thru and encourage ...</td>\n",
       "    </tr>\n",
       "    <tr>\n",
       "      <th>7</th>\n",
       "      <td>20100101</td>\n",
       "      <td>10 trends to end 2010</td>\n",
       "    </tr>\n",
       "    <tr>\n",
       "      <th>8</th>\n",
       "      <td>20100101</td>\n",
       "      <td>11 year old girl and 15 year old boy accused o...</td>\n",
       "    </tr>\n",
       "    <tr>\n",
       "      <th>9</th>\n",
       "      <td>20100101</td>\n",
       "      <td>12 days of rotoff vijay singh</td>\n",
       "    </tr>\n",
       "    <tr>\n",
       "      <th>10</th>\n",
       "      <td>20100101</td>\n",
       "      <td>12 new year s resolutions for better eating</td>\n",
       "    </tr>\n",
       "    <tr>\n",
       "      <th>11</th>\n",
       "      <td>20100101</td>\n",
       "      <td>14 hours of energy conference</td>\n",
       "    </tr>\n",
       "    <tr>\n",
       "      <th>12</th>\n",
       "      <td>20100101</td>\n",
       "      <td>2009 entertainment farewells</td>\n",
       "    </tr>\n",
       "    <tr>\n",
       "      <th>13</th>\n",
       "      <td>20100101</td>\n",
       "      <td>2009 review climategate to copenhagen part i</td>\n",
       "    </tr>\n",
       "    <tr>\n",
       "      <th>14</th>\n",
       "      <td>20100101</td>\n",
       "      <td>2009 review lacrosse inches into the mainstream</td>\n",
       "    </tr>\n",
       "    <tr>\n",
       "      <th>15</th>\n",
       "      <td>20100101</td>\n",
       "      <td>2009 s best pet moments for me</td>\n",
       "    </tr>\n",
       "    <tr>\n",
       "      <th>16</th>\n",
       "      <td>20100101</td>\n",
       "      <td>2009 sprint cup season review clint bowyer</td>\n",
       "    </tr>\n",
       "    <tr>\n",
       "      <th>17</th>\n",
       "      <td>20100101</td>\n",
       "      <td>2009 the year viral videos a retospective cove...</td>\n",
       "    </tr>\n",
       "    <tr>\n",
       "      <th>18</th>\n",
       "      <td>20100101</td>\n",
       "      <td>2009 top 10 christian fiction atlanta based au...</td>\n",
       "    </tr>\n",
       "    <tr>\n",
       "      <th>19</th>\n",
       "      <td>20100101</td>\n",
       "      <td>2009 was adam lambert s year to star 2010 shou...</td>\n",
       "    </tr>\n",
       "    <tr>\n",
       "      <th>20</th>\n",
       "      <td>20100101</td>\n",
       "      <td>2009 was a year of great tunes and great shows</td>\n",
       "    </tr>\n",
       "    <tr>\n",
       "      <th>21</th>\n",
       "      <td>20100101</td>\n",
       "      <td>2009 weather highlights</td>\n",
       "    </tr>\n",
       "    <tr>\n",
       "      <th>22</th>\n",
       "      <td>20100101</td>\n",
       "      <td>2010 1</td>\n",
       "    </tr>\n",
       "    <tr>\n",
       "      <th>23</th>\n",
       "      <td>20100101</td>\n",
       "      <td>2010 and beyond beyond</td>\n",
       "    </tr>\n",
       "    <tr>\n",
       "      <th>24</th>\n",
       "      <td>20100101</td>\n",
       "      <td>2010 a new year and a new decade dawns what dr...</td>\n",
       "    </tr>\n",
       "    <tr>\n",
       "      <th>25</th>\n",
       "      <td>20100101</td>\n",
       "      <td>2010 a space fairy tale</td>\n",
       "    </tr>\n",
       "    <tr>\n",
       "      <th>26</th>\n",
       "      <td>20100101</td>\n",
       "      <td>2010 a whole new year</td>\n",
       "    </tr>\n",
       "    <tr>\n",
       "      <th>27</th>\n",
       "      <td>20100101</td>\n",
       "      <td>2010 a year of races gop gov race</td>\n",
       "    </tr>\n",
       "    <tr>\n",
       "      <th>28</th>\n",
       "      <td>20100101</td>\n",
       "      <td>2010 ball drop video from times square happy n...</td>\n",
       "    </tr>\n",
       "    <tr>\n",
       "      <th>29</th>\n",
       "      <td>20100101</td>\n",
       "      <td>2010 california fishing license no wear initia...</td>\n",
       "    </tr>\n",
       "    <tr>\n",
       "      <th>...</th>\n",
       "      <td>...</td>\n",
       "      <td>...</td>\n",
       "    </tr>\n",
       "    <tr>\n",
       "      <th>3089751</th>\n",
       "      <td>20151231</td>\n",
       "      <td>the strongest trump supporters are registered ...</td>\n",
       "    </tr>\n",
       "    <tr>\n",
       "      <th>3089752</th>\n",
       "      <td>20151231</td>\n",
       "      <td>the wsj reports the nsa spied on israeli prime...</td>\n",
       "    </tr>\n",
       "    <tr>\n",
       "      <th>3089753</th>\n",
       "      <td>20151231</td>\n",
       "      <td>the year of the eater entrepreneur</td>\n",
       "    </tr>\n",
       "    <tr>\n",
       "      <th>3089754</th>\n",
       "      <td>20151231</td>\n",
       "      <td>the year review impressive wines and wineries ...</td>\n",
       "    </tr>\n",
       "    <tr>\n",
       "      <th>3089755</th>\n",
       "      <td>20151231</td>\n",
       "      <td>the young and the restless spoilers ashley abb...</td>\n",
       "    </tr>\n",
       "    <tr>\n",
       "      <th>3089756</th>\n",
       "      <td>20151231</td>\n",
       "      <td>tips for successful achievement of new year re...</td>\n",
       "    </tr>\n",
       "    <tr>\n",
       "      <th>3089757</th>\n",
       "      <td>20151231</td>\n",
       "      <td>tonya couch brought back to us from mexico whi...</td>\n",
       "    </tr>\n",
       "    <tr>\n",
       "      <th>3089758</th>\n",
       "      <td>20151231</td>\n",
       "      <td>top 10 beers of 2015</td>\n",
       "    </tr>\n",
       "    <tr>\n",
       "      <th>3089759</th>\n",
       "      <td>20151231</td>\n",
       "      <td>top carson aides resign from failing campaign</td>\n",
       "    </tr>\n",
       "    <tr>\n",
       "      <th>3089760</th>\n",
       "      <td>20151231</td>\n",
       "      <td>top five healthier snack options for the new year</td>\n",
       "    </tr>\n",
       "    <tr>\n",
       "      <th>3089761</th>\n",
       "      <td>20151231</td>\n",
       "      <td>top stories of 2015</td>\n",
       "    </tr>\n",
       "    <tr>\n",
       "      <th>3089762</th>\n",
       "      <td>20151231</td>\n",
       "      <td>toshiba and times square welcome 2016</td>\n",
       "    </tr>\n",
       "    <tr>\n",
       "      <th>3089763</th>\n",
       "      <td>20151231</td>\n",
       "      <td>towering inferno erupts at dubai luxury hotel ...</td>\n",
       "    </tr>\n",
       "    <tr>\n",
       "      <th>3089764</th>\n",
       "      <td>20151231</td>\n",
       "      <td>toy plane chants islamic prayer instead of jet...</td>\n",
       "    </tr>\n",
       "    <tr>\n",
       "      <th>3089765</th>\n",
       "      <td>20151231</td>\n",
       "      <td>tv actor wayne rogers has died</td>\n",
       "    </tr>\n",
       "    <tr>\n",
       "      <th>3089766</th>\n",
       "      <td>20151231</td>\n",
       "      <td>uber hits milestone 1 billion rides given by r...</td>\n",
       "    </tr>\n",
       "    <tr>\n",
       "      <th>3089767</th>\n",
       "      <td>20151231</td>\n",
       "      <td>useful tech gifts on secret wish lists</td>\n",
       "    </tr>\n",
       "    <tr>\n",
       "      <th>3089768</th>\n",
       "      <td>20151231</td>\n",
       "      <td>utah sports top 5 coolest people of 2015 they ...</td>\n",
       "    </tr>\n",
       "    <tr>\n",
       "      <th>3089769</th>\n",
       "      <td>20151231</td>\n",
       "      <td>utah sports top 5 morons of 2015 see if you ma...</td>\n",
       "    </tr>\n",
       "    <tr>\n",
       "      <th>3089770</th>\n",
       "      <td>20151231</td>\n",
       "      <td>utah sports top story of 2015 utah state f dav...</td>\n",
       "    </tr>\n",
       "    <tr>\n",
       "      <th>3089771</th>\n",
       "      <td>20151231</td>\n",
       "      <td>vaginal estrogen can improve postmenopausal se...</td>\n",
       "    </tr>\n",
       "    <tr>\n",
       "      <th>3089772</th>\n",
       "      <td>20151231</td>\n",
       "      <td>vegas fun the 2015 ford mustang</td>\n",
       "    </tr>\n",
       "    <tr>\n",
       "      <th>3089773</th>\n",
       "      <td>20151231</td>\n",
       "      <td>wallethub s 16 financial resolutions for the n...</td>\n",
       "    </tr>\n",
       "    <tr>\n",
       "      <th>3089774</th>\n",
       "      <td>20151231</td>\n",
       "      <td>what did we learn from the 49ers 2015</td>\n",
       "    </tr>\n",
       "    <tr>\n",
       "      <th>3089775</th>\n",
       "      <td>20151231</td>\n",
       "      <td>what lies ahead for hartford hockey 2016</td>\n",
       "    </tr>\n",
       "    <tr>\n",
       "      <th>3089776</th>\n",
       "      <td>20151231</td>\n",
       "      <td>which is better investment lego bricks or gold...</td>\n",
       "    </tr>\n",
       "    <tr>\n",
       "      <th>3089777</th>\n",
       "      <td>20151231</td>\n",
       "      <td>wild score three unanswered goals to defeat th...</td>\n",
       "    </tr>\n",
       "    <tr>\n",
       "      <th>3089778</th>\n",
       "      <td>20151231</td>\n",
       "      <td>with nasa and russia on the sidelines europe i...</td>\n",
       "    </tr>\n",
       "    <tr>\n",
       "      <th>3089779</th>\n",
       "      <td>20151231</td>\n",
       "      <td>wolf pack battling opponents officials on the ...</td>\n",
       "    </tr>\n",
       "    <tr>\n",
       "      <th>3089780</th>\n",
       "      <td>20151231</td>\n",
       "      <td>writespace hosts all genre open mic night</td>\n",
       "    </tr>\n",
       "  </tbody>\n",
       "</table>\n",
       "<p>3089781 rows × 2 columns</p>\n",
       "</div>"
      ],
      "text/plain": [
       "         publish_date                                    headline_tokens\n",
       "0            20100101          100 most anticipated books releasing 2010\n",
       "1            20100101          10 best films of 2009 what s on your list\n",
       "2            20100101  10 days of free admission at lan su chinese ga...\n",
       "3            20100101         10 playstation games to watch out for 2010\n",
       "4            20100101  10 resolutions for a happy new year for you an...\n",
       "5            20100101               10 tips to a healthy diet that works\n",
       "6            20100101  10 tips to avoid the drive thru and encourage ...\n",
       "7            20100101                              10 trends to end 2010\n",
       "8            20100101  11 year old girl and 15 year old boy accused o...\n",
       "9            20100101                      12 days of rotoff vijay singh\n",
       "10           20100101        12 new year s resolutions for better eating\n",
       "11           20100101                      14 hours of energy conference\n",
       "12           20100101                       2009 entertainment farewells\n",
       "13           20100101       2009 review climategate to copenhagen part i\n",
       "14           20100101    2009 review lacrosse inches into the mainstream\n",
       "15           20100101                     2009 s best pet moments for me\n",
       "16           20100101         2009 sprint cup season review clint bowyer\n",
       "17           20100101  2009 the year viral videos a retospective cove...\n",
       "18           20100101  2009 top 10 christian fiction atlanta based au...\n",
       "19           20100101  2009 was adam lambert s year to star 2010 shou...\n",
       "20           20100101     2009 was a year of great tunes and great shows\n",
       "21           20100101                            2009 weather highlights\n",
       "22           20100101                                             2010 1\n",
       "23           20100101                             2010 and beyond beyond\n",
       "24           20100101  2010 a new year and a new decade dawns what dr...\n",
       "25           20100101                            2010 a space fairy tale\n",
       "26           20100101                              2010 a whole new year\n",
       "27           20100101                  2010 a year of races gop gov race\n",
       "28           20100101  2010 ball drop video from times square happy n...\n",
       "29           20100101  2010 california fishing license no wear initia...\n",
       "...               ...                                                ...\n",
       "3089751      20151231  the strongest trump supporters are registered ...\n",
       "3089752      20151231  the wsj reports the nsa spied on israeli prime...\n",
       "3089753      20151231                 the year of the eater entrepreneur\n",
       "3089754      20151231  the year review impressive wines and wineries ...\n",
       "3089755      20151231  the young and the restless spoilers ashley abb...\n",
       "3089756      20151231  tips for successful achievement of new year re...\n",
       "3089757      20151231  tonya couch brought back to us from mexico whi...\n",
       "3089758      20151231                               top 10 beers of 2015\n",
       "3089759      20151231      top carson aides resign from failing campaign\n",
       "3089760      20151231  top five healthier snack options for the new year\n",
       "3089761      20151231                                top stories of 2015\n",
       "3089762      20151231              toshiba and times square welcome 2016\n",
       "3089763      20151231  towering inferno erupts at dubai luxury hotel ...\n",
       "3089764      20151231  toy plane chants islamic prayer instead of jet...\n",
       "3089765      20151231                     tv actor wayne rogers has died\n",
       "3089766      20151231  uber hits milestone 1 billion rides given by r...\n",
       "3089767      20151231             useful tech gifts on secret wish lists\n",
       "3089768      20151231  utah sports top 5 coolest people of 2015 they ...\n",
       "3089769      20151231  utah sports top 5 morons of 2015 see if you ma...\n",
       "3089770      20151231  utah sports top story of 2015 utah state f dav...\n",
       "3089771      20151231  vaginal estrogen can improve postmenopausal se...\n",
       "3089772      20151231                    vegas fun the 2015 ford mustang\n",
       "3089773      20151231  wallethub s 16 financial resolutions for the n...\n",
       "3089774      20151231              what did we learn from the 49ers 2015\n",
       "3089775      20151231           what lies ahead for hartford hockey 2016\n",
       "3089776      20151231  which is better investment lego bricks or gold...\n",
       "3089777      20151231  wild score three unanswered goals to defeat th...\n",
       "3089778      20151231  with nasa and russia on the sidelines europe i...\n",
       "3089779      20151231  wolf pack battling opponents officials on the ...\n",
       "3089780      20151231          writespace hosts all genre open mic night\n",
       "\n",
       "[3089781 rows x 2 columns]"
      ]
     },
     "execution_count": 2,
     "metadata": {},
     "output_type": "execute_result"
    }
   ],
   "source": [
    "dat= pd.read_csv('examiner-date-tokens.csv') #this file should be in your working directory - the same folder where this Jupyter Notebook is saved\n",
    "dat #view what it looks like"
   ]
  },
  {
   "cell_type": "markdown",
   "metadata": {},
   "source": [
    "*Preprocessing and Cleaning* \n",
    "\n",
    "From visually looking at the data, it is already pretty clean. Most importantly, letters are all lowercased, and punctuation removed. But we'll need to remove digits. And, the corpus needs to be re-structured for Word2Vec into a list of \"sentences\" or, in this case, headlines. Within each \"sentence\" we'll tokenize the string such that each word is a token.\n",
    "\n",
    "*Fake original text data, before being cleaned and pre-processed might have looked something like this:*\n",
    "\n",
    "    mydata= [These are words in the First sentence. These are words in the Second sentence! These are words in the Third sentence.] \n",
    "    \n",
    "*We want to clean it to be an object like this:*\n",
    "\n",
    "    sentences= [['these', 'are', 'words', 'in', 'the', 'first', 'sentence'], ['these', 'are', 'words', 'in', 'the' , 'second', sentence], [these, 'are', 'words', 'in', 'the' , 'third', 'sentence']]\n",
    "\n",
    "\n",
    "Pre-processing in natural language processing commonly include removing stop words (words that are frequent but considered meaningless by some researchers, such as \"the\") and stemming words (e.g., reducing all words to a single tense, like \"running and \"runs\" to \"run\"). We do not remove stop words, which we consider meaningful, and Word2Vec well equipped to extract any meaning from stop words if it is there (i.e., if a stopword predicts other words' meaning), or to place little emphasis on stop words (or noise) if they do not predict other words' meaning. We also do not stem words. On smaller datasets stemming can be a strategy to reduce the vocabulary size and increase the number of instances of each vocabulary word, but the vocabulary size of the data set we initially trained on (New York Times articles) was a large corpus, and so we can use unstemmed words."
   ]
  },
  {
   "cell_type": "code",
   "execution_count": 3,
   "metadata": {},
   "outputs": [
    {
     "name": "stdout",
     "output_type": "stream",
     "text": [
      "['best', 'films', 'of', 'what', 's', 'on', 'your', 'list']\n",
      "3089781\n"
     ]
    }
   ],
   "source": [
    "dat2= [str(i[1]) for i in dat.values] #only need the text of each headline in the 1st index, not the date, in the 0th index\n",
    "translator = str.maketrans(ascii_letters, ascii_letters, digits) #stripping digits here, see: https://stackoverflow.com/questions/32538305/using-translate-on-a-string-to-strip-digits-python-3\n",
    "\n",
    "sentences=[]\n",
    "for i in dat2:\n",
    "    headline= i.translate(translator)\n",
    "    headline= headline.strip()\n",
    "    sentences.append(headline.split())\n",
    "    \n",
    "print(sentences[1])\n",
    "print(len(sentences)) # check that it is actually around 3 million headlines here as supposed to be. its ok if not perfectly clean (i.e.  some words that are nonsensical) for these purposes"
   ]
  },
  {
   "cell_type": "code",
   "execution_count": 4,
   "metadata": {},
   "outputs": [],
   "source": [
    "#does sentences look ok? then delete dat and dat2 to save up some space\n",
    "del(dat2)\n",
    "del(dat)"
   ]
  },
  {
   "cell_type": "markdown",
   "metadata": {},
   "source": [
    "#### Have your own dataset? Load it below. \n",
    "\n",
    "Note your sentences object should be an object of cleaned, pre-processed, tokenized text data, as described above. "
   ]
  },
  {
   "cell_type": "code",
   "execution_count": 97,
   "metadata": {
    "collapsed": true
   },
   "outputs": [],
   "source": [
    "sentences= open('your_tokenized_data_file_here.txt').read() "
   ]
  },
  {
   "cell_type": "markdown",
   "metadata": {},
   "source": [
    "#### Next, we'll train a Word2Vec model on our sentences object. Here are some hyperparameters involved:\n",
    "\n",
    "* For a review see [Rong 2014](https://arxiv.org/abs/1411.2738)  and the [Gensim documentation](https://radimrehurek.com/gensim/models/word2vec.html)\n",
    "\n",
    "Key hyperparameters for Word2Vec include the learning architecture (Skip Gram or Context Bag of Words), the dimensionality of the word-vectors we will learn, and the context window of words, \"window\". Skip-gram sets up the artificial neural network underlying Word2Vec to predict set of context words given a target word. CBOW, or Context Bag of Words, sets up the network to predict a target word given a set of context words. The number of context words used is set by the \"window\" parameter. \n",
    "\n",
    "* size = word vector dimensionality. This usually ranges between 50-500 with gains in model performance diminishing after 300 (Mikolov et al. 2013a). We've seen up to 1000, but usually see 100, 300, and sometimes 500 dimensions on larger corprora. If you have a smaller dataset, stick to smaller dimensionality, roughly 50-200. Even 100 dimensions is a lot to learn! And, if you are using the embeddings for a classifiation task down the road (like in Part C of this GitHub Repo), it might be better to keep dimensionality low. \n",
    "* min_count = minimum word count. Any word that does not occur at least this many times across all documents is ignored. Default is 5. I often set this higher to learn only high quality word-vectors. \n",
    "* workers = number of threads to run in parallel, we set to 4. This speeds up training a lot, but to use make sure Cython is installed first. \n",
    "* window = context window size. This is the numebr of words used to predict a target word (in CBOW) or to be predicted from a target word (SG). A larger window captures topical similarity, smaller captures is semantic similarity (Goldberg 2016, Levy and Goldberg 2014).\n",
    "* seed= can set a seed for reproducibility, note you also cannot use multiple workers for a fully reproducible model.\n",
    "* sg = learning architecture: skip-gram (1) or CBOW (0). Skip-gram sets up the artificial neural network underlying Word2Vec to predict set of context words given a target word. CBOW, or Context Bag of Words, sets up the network to predict a target word given a set of context words. \n",
    "* hs= training algorithm to speed up computations: hierarchical softmax (1) or negative sampling (0)\n",
    "    "
   ]
  },
  {
   "cell_type": "markdown",
   "metadata": {},
   "source": [
    "#### Train Models with Combos of Hyperparameters"
   ]
  },
  {
   "cell_type": "markdown",
   "metadata": {},
   "source": [
    "Try a few combos of hyperparameters and see which performs best on your dataset by evaluating their accuracy in Part 2. "
   ]
  },
  {
   "cell_type": "markdown",
   "metadata": {},
   "source": [
    "Run bigram transformer, below. This allows our vocabulary to include not just single words but also bigrams (two-word phrases, like \"New York\"). This transformation needs to be done before training the Word2Vec model. \n",
    "\n",
    "Notes for your own implementation:\n",
    "* You can run one time to catch two-word phrases, like \"New_York\", or two times times, such as to catch three-word phrases (like \"New_York_City\"), or more times. For more information see the [Gensim documentaion.](https://radimrehurek.com/gensim/models/phrases.html).\n",
    "* If you only want single word-tokens, then just use \"sentences\" when you feed into Word2Vec() rather than feeding in bigram_transformer[sentences] "
   ]
  },
  {
   "cell_type": "code",
   "execution_count": 6,
   "metadata": {},
   "outputs": [],
   "source": [
    "#your \"sentences\" object with the cleaned text data. \n",
    "bigram_transformer = phrases.Phrases(sentences) \n",
    "bigram= phrases.Phraser(bigram_transformer)"
   ]
  },
  {
   "cell_type": "markdown",
   "metadata": {},
   "source": [
    "Try training various models which vary by learning architecture (Skip Gram vs Context Bag of Words)."
   ]
  },
  {
   "cell_type": "code",
   "execution_count": 8,
   "metadata": {},
   "outputs": [],
   "source": [
    "currentmodel= Word2Vec(bigram[sentences], workers=4, sg=0,size=100, min_count=5,window=5, sample=1e-3)"
   ]
  },
  {
   "cell_type": "markdown",
   "metadata": {},
   "source": [
    "Save your model to your working directory"
   ]
  },
  {
   "cell_type": "code",
   "execution_count": 8,
   "metadata": {
    "collapsed": true
   },
   "outputs": [],
   "source": [
    "currentmodel.init_sims(replace=True) #Precompute L2-normalized vectors. If replace is set to TRUE, forget the original vectors and only keep the normalized ones. Saves lots of memory, but can't continue to train the model."
   ]
  },
  {
   "cell_type": "code",
   "execution_count": 9,
   "metadata": {
    "collapsed": true
   },
   "outputs": [],
   "source": [
    "currentmodel.save(\"modelA_workshop\") #save your model for later use! change the name to something to remember the hyperparameters you trained it with"
   ]
  },
  {
   "cell_type": "markdown",
   "metadata": {},
   "source": [
    "<a id='Accuracy'></a> \n",
    "## Part 2: Word2Vec Model Accuracy"
   ]
  },
  {
   "cell_type": "markdown",
   "metadata": {},
   "source": [
    "The **Google Analogy Test** is one of the most accepted strategies to evaluate how \"good\" or high quality your model is. The Google Analogy Test includes a series of analogies divided up into subsections, including world capitals, countries’ currencies, family, and a series of syntactic sections such as tense and plurality.  For example, an analogy in the semantic section of World Capitals will include: “Berlin: Germany as Paris: ?” and if the model responds correctly it will return: “France.” An analogy in the semantic section of family will include: “Mother: Father as Daughter: Son.” In the syntax section with tense, a sample analogy might be “Walk: Walked as Run: Ran.”  The Google Analogy test includes approximately 20,000 questions, and accuracy is the proportion of these questions that the model answers correctly. A \"better\" model should answer more questions correctly. As we'll see, this isn't the best measure but it is a good starting point. "
   ]
  },
  {
   "cell_type": "markdown",
   "metadata": {},
   "source": [
    "**Load up a pretrained Word2Vec Model:**\n",
    "\n",
    "*Option 1*: Upload your own saved, trained model you want to evaluate, such as the model you trained above and saved. \n",
    "* Your model should be in your working directory. Your working directory is the folder where this Jupyter notebook is currently saved. Currently, the code assumes that your downloads folder is your working directory."
   ]
  },
  {
   "cell_type": "code",
   "execution_count": 7,
   "metadata": {},
   "outputs": [],
   "source": [
    "currentmodel=  Word2Vec.load(\"modelA_workshop\") #name of YOUR model here, or file path to your model.\n",
    "\n",
    "#    An example for a PC computer if your model is in your downloads folder, and you're using a model named \"modelA\" \n",
    "#currentmodel=  Word2Vec.load(\"C:/Users/Alina Arseniev/Downloads/modelA\")\n",
    "\n",
    "#   An example for a Mac if your model is in your downloads folder, and you're using a model named \"modelA\" \n",
    "#currentmodel=  Word2Vec.load(\"~/Downloads/modelA\")"
   ]
  },
  {
   "cell_type": "markdown",
   "metadata": {},
   "source": [
    "*Option 2*: Use the Word2Vec model that we used in our paper, and trained on obesity and health related New York Times articles. See our paper for training details. \n",
    "* Download our model, called 'modelA_ALLYEARS_500dim_10CW' from our [OSF](https://osf.io/jvarx/files/), and put it in your working directory. Your working directory is the folder where this Jupyter notebook is currently saved. Currently, the code assumes that your downloads folder is your working directory. "
   ]
  },
  {
   "cell_type": "code",
   "execution_count": 11,
   "metadata": {},
   "outputs": [],
   "source": [
    "#    An example for a PC computer if your model is in your downloads folder, and you're using a model named \"modelA_ALLYEARS_500dim_10CW\" \n",
    "#currentmodel=  Word2Vec.load(\"C:/Users/Alina Arseniev/Downloads/modelA_ALLYEARS_500dim_10CW\")\n",
    "\n",
    "#   An example for a Mac if your model is in your downloads folder, and you're using a model named \"modelA_ALLYEARS_500dim_10CW\" \n",
    "#currentmodel=  Word2Vec.load(\"~/Downloads/modelA_ALLYEARS_500dim_10CW\")\n",
    "\n",
    "#   Example based on my set-up of folders:\n",
    "currentmodel=  Word2Vec.load(\"Word2VecModels/modelA_ALLYEARS_500dim_10CW\") #load up a trained Word2Vec model. You'll need to tailor this path to your computer"
   ]
  },
  {
   "cell_type": "markdown",
   "metadata": {},
   "source": [
    "*Option 3:* Use a pretrained Word2Vec Model from Google, trained on Google News\n",
    "* Download a pre-trained model on GoogleNews, find link to download on this [site](https://code.google.com/archive/p/word2vec/) or direct link to [download here](https://drive.google.com/file/d/0B7XkCwpI5KDYNlNUTTlSS21pQmM/edit?usp=sharing).\n",
    "* Extract the files, and make sure you have the one called \"GoogleNews-vectors-negative300.bin.gz\" in your working directory. Your working directory is the folder where this Jupyter notebook is currently saved. Currently, the code assumes that your downloads folder is your working directory. \n",
    "* Some of the vocabulary words used in this notebook may not exist, since the vocabulary words used in this notebook were selected based on a model trained on the New York Times, however the code will still run fine. "
   ]
  },
  {
   "cell_type": "code",
   "execution_count": 36,
   "metadata": {},
   "outputs": [],
   "source": [
    "currentmodel = KeyedVectors.load_word2vec_format('GoogleNews-vectors-negative300.bin.gz',limit=500000, binary=True)\n",
    "\n",
    "#   An example for a PC computer if your model is in your downloads folder, and you're using the Google model \n",
    "#currentmodel=  KeyedVectors.load_word2vec_format('C:/Users/Alina Arseniev/Downloads/GoogleNews-vectors-negative300.bin.gz',limit=500000, binary=True)\n",
    "\n",
    "#   An example for a Mac if your model is in your downloads folder, and you're using the Google model \n",
    "#currentmodel=  KeyedVectors.load_word2vec_format(\"~/Downloads/GoogleNews-vectors-negative300.bin.gz\", limit=500000, binary=True)\n"
   ]
  },
  {
   "cell_type": "markdown",
   "metadata": {},
   "source": [
    "**Now let's look at the model accuracy on the Google Analogy Test:**"
   ]
  },
  {
   "cell_type": "code",
   "execution_count": 9,
   "metadata": {},
   "outputs": [
    {
     "name": "stderr",
     "output_type": "stream",
     "text": [
      "C:\\Users\\Alina Arseniev\\Anaconda3\\lib\\site-packages\\ipykernel_launcher.py:3: DeprecationWarning: Call to deprecated `accuracy` (Method will be removed in 4.0.0, use self.evaluate_word_analogies() instead).\n",
      "  This is separate from the ipykernel package so we can avoid doing imports until\n"
     ]
    },
    {
     "name": "stdout",
     "output_type": "stream",
     "text": [
      "Accuracy on capital-common-countries: 0.15\n",
      "Accuracy on capital-world: 0.10599078341013825\n",
      "Accuracy on currency: 0.0\n",
      "Accuracy on city-in-state: 0.09783513738551207\n",
      "Accuracy on family: 0.7026315789473684\n",
      "Accuracy on gram1-adjective-to-adverb: 0.04411764705882353\n",
      "Accuracy on gram2-opposite: 0.0641025641025641\n",
      "Accuracy on gram3-comparative: 0.41748768472906406\n",
      "Accuracy on gram4-superlative: 0.37384615384615383\n",
      "Accuracy on gram5-present-participle: 0.5042735042735043\n",
      "Accuracy on gram6-nationality-adjective: 0.2016509433962264\n",
      "Accuracy on gram7-past-tense: 0.20114942528735633\n",
      "Accuracy on gram8-plural: 0.35700757575757575\n",
      "Accuracy on gram9-plural-verbs: 0.44047619047619047\n",
      "Accuracy on total: 0.2745495255357714\n",
      "\u001b[1mAverage Accuracy On a Section: 0.26146922776217696\u001b[0m\n"
     ]
    }
   ],
   "source": [
    "#Make sure you have downloaded these files into your working directory from this from the Github repo https://github.com/arsena-k/Word2Vec-bias-extraction: questions_words_pasted.txt, testing.py, and question-words.txt\n",
    "\n",
    "accuracy=currentmodel.wv.accuracy('questions_words_pasted.txt') \n",
    "\n",
    "accuracy_labels= [accuracy[i]['section'] for i in range(0, len(accuracy))]\n",
    "accuracy_tracker=[]\n",
    "for i in range(0, 15):\n",
    "    sum_corr = len(accuracy[i]['correct'])\n",
    "    sum_incorr = len(accuracy[i]['incorrect'])\n",
    "    total = sum_corr + sum_incorr\n",
    "    print(\"Accuracy on \" + str(accuracy_labels[i]) + \": \"  + str(float(sum_corr)/(total)))\n",
    "    accuracy_tracker.append(float(sum_corr)/(total))\n",
    "\n",
    "print('\\033[1m' + \"Average Accuracy On a Section: \" + str(mean(accuracy_tracker[0:-1])) + '\\033[0m')"
   ]
  },
  {
   "cell_type": "markdown",
   "metadata": {},
   "source": [
    "*Notes on the Google Analogy Test:*\n",
    "\n",
    "When originally published, Word2Vec averaged at around 60% across all sections of the Google Analogy Test. Models I've trained on a large news corpus tend to average between 50 and 60%. On smaller coropora, or more heterogenous corpora, accuracy rates might even hover around 0. The Google Analogy test is a useful benchmark, but may be more or less meaningful on different datasets. For example, we might not expect it provide useful infomration on a historical dataset, which contains different language and knoweldge (e.g., some currencies and capitals were likely different at the time the data was produced). For some datasets, it may be useful to select certain sections that are more meaningful than others, such as dropping the section on money for a data set on narratives. \n",
    "\n",
    "Even with low performance on this test, vectors might still contain meaningful, interesting information, but might not be robust or high quality enough for more complex tasks. You can also try tweaking the hyperparameters used to improve performance, especially the dimensionality, context window, and learning architecture. "
   ]
  },
  {
   "cell_type": "markdown",
   "metadata": {},
   "source": [
    "**Another Way to Evaluate Model Quality** is to compare human-rated similarities between words, with cosine-similarities based on Word2Vec. \n",
    "The below code illustrates how to compute this, using a standard dataset for human-rated similarities called \"wordsim353\"."
   ]
  },
  {
   "cell_type": "code",
   "execution_count": 10,
   "metadata": {},
   "outputs": [
    {
     "data": {
      "text/plain": [
       "((0.512815390508537, 1.1469054625069262e-24),\n",
       " SpearmanrResult(correlation=0.5292272008016102, pvalue=1.9377428524532604e-26),\n",
       " 1.69971671388102)"
      ]
     },
     "execution_count": 10,
     "metadata": {},
     "output_type": "execute_result"
    }
   ],
   "source": [
    "similarities = currentmodel.wv.evaluate_word_pairs(datapath('wordsim353.tsv'))\n",
    "similarities"
   ]
  },
  {
   "cell_type": "markdown",
   "metadata": {},
   "source": [
    "<a id='Results'></a> \n",
    "## Part 3: Explore and Visualize your Word2Vec Model"
   ]
  },
  {
   "cell_type": "markdown",
   "metadata": {},
   "source": [
    "If you're jumping right to here and didn't go though Part 2, look at first few lines of [Part 2](#Accuracy) for help to upload your own trained model or a pre-trained model you want to explore. "
   ]
  },
  {
   "cell_type": "markdown",
   "metadata": {},
   "source": [
    "How many vocabulary words were learned by the model? "
   ]
  },
  {
   "cell_type": "code",
   "execution_count": 11,
   "metadata": {},
   "outputs": [
    {
     "data": {
      "text/plain": [
       "150040"
      ]
     },
     "execution_count": 11,
     "metadata": {},
     "output_type": "execute_result"
    }
   ],
   "source": [
    "len(currentmodel.wv.vocab) "
   ]
  },
  {
   "cell_type": "markdown",
   "metadata": {},
   "source": [
    "Let's look at the raw word-vector for 'woman'. These numbers aren't so meaningful to human readers on their own. "
   ]
  },
  {
   "cell_type": "code",
   "execution_count": 12,
   "metadata": {},
   "outputs": [
    {
     "data": {
      "text/plain": [
       "array([-1.2543943 ,  3.7819917 ,  2.7783651 ,  0.3512376 ,  2.059233  ,\n",
       "        0.5098741 ,  0.9053276 , -4.229204  , -0.21875425, -1.9673448 ,\n",
       "       -0.33058524,  0.25636157,  1.1225747 , -2.624579  , -2.5296135 ,\n",
       "       -1.6054943 ,  0.20077063, -1.0053293 , -0.29356027,  0.53303206,\n",
       "       -1.387495  ,  0.01206281, -0.17320596,  1.2598053 , -1.0995799 ,\n",
       "        0.51523083,  1.4181904 ,  1.4870571 , -0.95493466,  0.79563737,\n",
       "        1.1610413 ,  1.5978247 ,  1.9111508 ,  1.940932  ,  1.7573541 ,\n",
       "       -1.0061376 ,  0.3651996 ,  1.1067129 ,  1.7762822 , -0.39500186,\n",
       "        0.32968357,  0.29394817, -0.13522461,  0.24404055,  1.6640005 ,\n",
       "       -1.5987244 ,  1.4230242 , -0.68825835,  0.11083573,  2.2457435 ,\n",
       "        1.947253  ,  0.0456855 , -2.143368  , -0.01532538, -1.4619738 ,\n",
       "       -1.7109601 ,  0.8608417 , -0.61128503, -2.6933053 , -0.40359342,\n",
       "       -0.26547045,  1.1395985 ,  0.9644018 ,  1.6119976 ,  1.9823403 ,\n",
       "       -0.8891848 , -1.9766457 , -1.7284039 ,  0.16937111, -0.49676195,\n",
       "       -1.4771266 , -0.6576277 ,  4.58154   ,  1.3596501 ,  0.24639703,\n",
       "        0.530122  , -2.4120972 , -1.7628245 ,  1.7319362 , -1.8420693 ,\n",
       "        2.3830204 ,  1.37538   ,  1.2496402 ,  3.1206284 , -1.9055895 ,\n",
       "        2.2234206 ,  0.85195607, -1.7227776 ,  2.0351949 , -0.07152707,\n",
       "        2.0159137 ,  0.38447753, -0.7283235 , -0.7058901 ,  0.356707  ,\n",
       "       -1.9020966 ,  1.4868635 , -1.5989096 ,  1.485237  , -0.3093432 ],\n",
       "      dtype=float32)"
      ]
     },
     "execution_count": 12,
     "metadata": {},
     "output_type": "execute_result"
    }
   ],
   "source": [
    "currentmodel.wv['woman']"
   ]
  },
  {
   "cell_type": "markdown",
   "metadata": {},
   "source": [
    "What are the most similar words to \"woman\"? What are the cosine simiarlties? \n",
    "\n",
    "* Cosine Similarity ranges 0-1 here, with 0 corresponding to two words that share NOTHING in common, and 1 suggesting they are the exact same meaning. For a review on cosine similarity for word-vector models, see this [article](http://blog.christianperone.com/2013/09/machine-learning-cosine-similarity-for-vector-space-models-part-iii/). \n",
    "* Surprised that a word like \"man\" is so similar to \"woman\"? While these two are opposites in terms of gender, otherwise they correpond to largely the same meaning (adults, humans, singular, nouns, etc.), so they should be very similar and close in space. "
   ]
  },
  {
   "cell_type": "code",
   "execution_count": 13,
   "metadata": {},
   "outputs": [
    {
     "data": {
      "text/plain": [
       "[('woman', 0.8311702013015747),\n",
       " ('homeless_man', 0.6543941497802734),\n",
       " ('man_swings', 0.6427056193351746),\n",
       " ('robber', 0.6416606903076172),\n",
       " ('teenager', 0.6143975853919983),\n",
       " ('police_officer', 0.6137961149215698),\n",
       " ('burglar', 0.6103614568710327),\n",
       " ('neighbor', 0.5972462296485901),\n",
       " ('stranger', 0.5920572876930237),\n",
       " ('little_girl', 0.5882078409194946)]"
      ]
     },
     "execution_count": 13,
     "metadata": {},
     "output_type": "execute_result"
    }
   ],
   "source": [
    "currentmodel.wv.most_similar('man', topn=10) "
   ]
  },
  {
   "cell_type": "markdown",
   "metadata": {},
   "source": [
    "Calculate cosine similarity of two words specifically"
   ]
  },
  {
   "cell_type": "code",
   "execution_count": 14,
   "metadata": {},
   "outputs": [
    {
     "name": "stdout",
     "output_type": "stream",
     "text": [
      "0.8311700224876404\n"
     ]
    }
   ],
   "source": [
    "print(1 - spatial.distance.cosine(currentmodel.wv['woman'], currentmodel.wv['man'])) "
   ]
  },
  {
   "cell_type": "markdown",
   "metadata": {},
   "source": [
    "Which words are FARTHEST from big? Doesn't work so well, results aren't usually meaningful. This shows how distance as can break down as a meaningful measure in this model compared to our intuitions.  "
   ]
  },
  {
   "cell_type": "code",
   "execution_count": 15,
   "metadata": {},
   "outputs": [
    {
     "data": {
      "text/plain": [
       "[('serves_as', 0.3441845178604126),\n",
       " ('unalienable', 0.3432225286960602),\n",
       " ('gave', 0.3333454430103302),\n",
       " ('examines', 0.3246099650859833),\n",
       " ('xsport', 0.3219986855983734),\n",
       " ('speaks_about', 0.3207676410675049),\n",
       " ('elevates', 0.3202713429927826),\n",
       " ('holy_qur', 0.3137846291065216),\n",
       " ('wirz', 0.30838248133659363),\n",
       " ('salutes', 0.30441248416900635)]"
      ]
     },
     "execution_count": 15,
     "metadata": {},
     "output_type": "execute_result"
    }
   ],
   "source": [
    "currentmodel.wv.most_similar(negative=['big']) "
   ]
  },
  {
   "cell_type": "markdown",
   "metadata": {},
   "source": [
    "Let's try some tricks:"
   ]
  },
  {
   "cell_type": "markdown",
   "metadata": {},
   "source": [
    "Let's ask our model to solve the anaology, man is to king as woman is to ? \n",
    "\n",
    "Specifically, we ask the model to find the word-vector that is most similar to the vector leftover from the vector algebra: king + woman - man\n",
    "\n",
    "Another way to think about our expected relationship is:\n",
    "* A queen is a *feminine* king. \n",
    "* If we take *woman* and subtract *man*, we get just the parts that about being feminine, since we subtracted out parts that are shared between men and woman (e.g., being a human, adult, noun, singular, etc.). \n",
    "* If we take away the masculinity from king (subtract man), and add the femininity (add woman), we get the feminine version of a king- a queen! \n",
    "\n",
    "If you're model doesn't solve this correctly, try a few other tricks to see if it gets those."
   ]
  },
  {
   "cell_type": "code",
   "execution_count": 19,
   "metadata": {},
   "outputs": [
    {
     "name": "stdout",
     "output_type": "stream",
     "text": [
      "[('queen', 0.4291844069957733), ('king_jr', 0.37477171421051025), ('king_archive', 0.33501002192497253), ('duchess', 0.32694119215011597), ('princess', 0.32376158237457275), ('prince_george', 0.3227635622024536), ('royalty', 0.3190450966358185), ('napoleon', 0.29717525839805603), ('maid', 0.2942931056022644), ('england', 0.29373669624328613)]\n"
     ]
    }
   ],
   "source": [
    "print(currentmodel.wv.most_similar(positive=['woman', 'king'], negative=['man'])) #man:king as woman:_?___ QUEEN! "
   ]
  },
  {
   "cell_type": "markdown",
   "metadata": {},
   "source": [
    "Try another analogy: boy is to man as girl is to? "
   ]
  },
  {
   "cell_type": "code",
   "execution_count": 20,
   "metadata": {},
   "outputs": [
    {
     "name": "stdout",
     "output_type": "stream",
     "text": [
      "[('boy', 0.561177670955658), ('guy', 0.45864051580429077), ('boyfriend', 0.3834514319896698), ('girls', 0.3818017244338989), ('kid', 0.3705102205276489), ('little_girl', 0.36146965622901917), ('witch', 0.35749614238739014), ('teen', 0.3504459261894226), ('girlfriend', 0.35019850730895996), ('roommate', 0.34854060411453247)]\n"
     ]
    }
   ],
   "source": [
    "print(currentmodel.wv.most_similar(positive=['girl', 'man'], negative=['woman'])) #boy:man as girl:_?___ WOMAN!"
   ]
  },
  {
   "cell_type": "markdown",
   "metadata": {},
   "source": [
    "A trickier trick! Can Word2Vec which word doesn't match? It should be able to tell based on which word has the lowest cosine similarity to all the other words. "
   ]
  },
  {
   "cell_type": "code",
   "execution_count": 22,
   "metadata": {},
   "outputs": [
    {
     "data": {
      "text/plain": [
       "'turkey'"
      ]
     },
     "execution_count": 22,
     "metadata": {},
     "output_type": "execute_result"
    }
   ],
   "source": [
    "currentmodel.wv.doesnt_match(\"noodle chicken turkey beef\".split()) #does it get that noodle is not a meat?"
   ]
  },
  {
   "cell_type": "code",
   "execution_count": 23,
   "metadata": {},
   "outputs": [
    {
     "data": {
      "text/plain": [
       "'toe'"
      ]
     },
     "execution_count": 23,
     "metadata": {},
     "output_type": "execute_result"
    }
   ],
   "source": [
    "currentmodel.wv.doesnt_match(\"tomato potato toe\".split()) #does it get that a toe is not a fruit or veggie?"
   ]
  },
  {
   "cell_type": "markdown",
   "metadata": {},
   "source": [
    "Let's look at the most \"feminine\" and \"masculine\" words\n",
    "\n",
    "* Previously we asked Word2Vec to solve the analogy of king and queen; now we're going to isolate gendered meaning. \n",
    "* If we take woman and subtract man, we get just the parts that about being feminine, since we subtracted out parts that are shared between men and woman (e.g., being a human, adult, noun, singular, etc.). Now we're asking what are the most similar words to this leftover vector, that represents femininity?\n",
    "* We can quickly do this in the below lind which looks ath the most similar words to +woman, -man (i.e, woman-man).\n",
    "\n"
   ]
  },
  {
   "cell_type": "code",
   "execution_count": 17,
   "metadata": {},
   "outputs": [
    {
     "name": "stdout",
     "output_type": "stream",
     "text": [
      "[('breastfeeding', 0.42532265186309814), ('kate_middleton', 0.41971465945243835), ('nurses', 0.40929245948791504), ('nurse', 0.39992254972457886), ('women', 0.38925766944885254), ('duchess_kate', 0.3794288635253906), ('battered_women', 0.3714223802089691), ('pregnancy', 0.364116370677948), ('births', 0.3628464341163635), ('victoria_beckham', 0.3605617880821228)]\n"
     ]
    }
   ],
   "source": [
    "print(currentmodel.wv.most_similar(positive=['woman'], negative=['man'], topn=10)) #what are the most feminine words?"
   ]
  },
  {
   "cell_type": "code",
   "execution_count": 16,
   "metadata": {},
   "outputs": [
    {
     "name": "stdout",
     "output_type": "stream",
     "text": [
      "[('guitar_hero', 0.3973549008369446), ('old_republic', 0.3969220519065857), ('bringing_back', 0.39593788981437683), ('man_swings', 0.3835267424583435), ('misfits', 0.3822355270385742), ('gathering_tactics', 0.375559538602829), ('shinobi', 0.3720267713069916), ('evil_dead', 0.36838266253471375), ('remastered', 0.3635137677192688), ('playing', 0.36322757601737976)]\n"
     ]
    }
   ],
   "source": [
    "print(currentmodel.wv.most_similar(positive=['man'], negative=['woman'], topn=10)) #what are the most masculine words?"
   ]
  },
  {
   "cell_type": "markdown",
   "metadata": {},
   "source": [
    "**Visualize Word-Vector Neighborhoods**"
   ]
  },
  {
   "cell_type": "markdown",
   "metadata": {},
   "source": [
    "Try visualizing a set of words:"
   ]
  },
  {
   "cell_type": "code",
   "execution_count": 18,
   "metadata": {},
   "outputs": [],
   "source": [
    "#review of tsne: http://scikit-learn.org/stable/modules/generated/sklearn.manifold.TSNE.html\n",
    "#modified code from https://www.kaggle.com/jeffd23/visualizing-word-vectors-with-t-sne/code\n",
    "\n",
    "#define a function to visualize word-vectors in 2-D version of the high dimensional space\n",
    "\n",
    "def tsne_plot(words, vectors, iterations, seed, title): \n",
    "    \"Creates and TSNE model and plots it\"\n",
    "    tsne_model = TSNE(perplexity=5, n_components=2, init='pca', n_iter=iterations, random_state=seed) #you may need to tune these, epsecially the perplexity. #Use PCA to reduce dimensionality to 2-D, an \"X\" and a \"Y \n",
    "    new_values = tsne_model.fit_transform(vectors)\n",
    "\n",
    "    x = []\n",
    "    y = []\n",
    "    for value in new_values:\n",
    "        x.append(value[0])\n",
    "        y.append(value[1])\n",
    "        \n",
    "    plt.figure(figsize=(10, 10)) \n",
    "    for i in range(len(x)):\n",
    "        plt.scatter(x[i],y[i])\n",
    "        plt.annotate(words[i],\n",
    "                     xy=(x[i], y[i]),\n",
    "                     xytext=(5, 2),\n",
    "                     textcoords='offset points',\n",
    "                     ha='right',\n",
    "                     va='bottom')\n",
    "    plt.ylabel(\"Latent Dimension 1\") #Some pyplot reminders: https://matplotlib.org/users/pyplot_tutorial.html\n",
    "    plt.xlabel(\"Latent Dimension 2\")\n",
    "    plt.title(title)\n",
    "    plt.show()"
   ]
  },
  {
   "cell_type": "code",
   "execution_count": 19,
   "metadata": {},
   "outputs": [],
   "source": [
    "my_word_list=[]\n",
    "my_word_vectors=[]\n",
    "label=[]\n",
    "\n",
    "words_to_explore= ['woman', 'man', 'queen', 'king', 'human', 'person', 'girl', 'child', 'boy', 'salad', 'lettuce', 'tomato', 'soup', 'turnip', 'arugula', 'pepper', 'greens', 'barley', 'bean', 'stew', 'carrot']\n",
    "\n",
    "for i in words_to_explore:   \n",
    "    try:\n",
    "        if my_word_list not in my_word_list:\n",
    "            my_word_vectors.append(currentmodel.wv[i])\n",
    "            my_word_list.append(i)\n",
    "    except KeyError: #if one of the words_to_explore is not in the model vocab, just skip it\n",
    "        continue"
   ]
  },
  {
   "cell_type": "code",
   "execution_count": 20,
   "metadata": {},
   "outputs": [
    {
     "data": {
      "image/png": "[encoded data removed]",
      "text/plain": [
       "<Figure size 720x720 with 1 Axes>"
      ]
     },
     "metadata": {
      "needs_background": "light"
     },
     "output_type": "display_data"
    }
   ],
   "source": [
    "tsne_plot(my_word_list, my_word_vectors, 3000, 23,  \"TSNE Visualization of Word-Vectors\") #don't use too many words, won't finish running"
   ]
  },
  {
   "cell_type": "markdown",
   "metadata": {},
   "source": [
    "Try visualizing the most feminine and most masculine words:"
   ]
  },
  {
   "cell_type": "code",
   "execution_count": 21,
   "metadata": {},
   "outputs": [],
   "source": [
    "my_word_list=[]\n",
    "my_word_vectors=[]\n",
    "label=[]\n",
    "\n",
    "for i in currentmodel.wv.most_similar(positive=['woman'], negative=['man'], topn=30):   #30 most feminine words\n",
    "    if my_word_list not in my_word_list:\n",
    "        my_word_list.append(i[0])\n",
    "        my_word_vectors.append(currentmodel.wv[i[0]])\n",
    "        label.append('fem')\n",
    "\n",
    "for i in currentmodel.wv.most_similar(positive=['man'], negative=['woman'], topn=30):   #30 most masculine words\n",
    "    if my_word_list not in my_word_list:\n",
    "        my_word_list.append(i[0])\n",
    "        my_word_vectors.append(currentmodel.wv[i[0]])\n",
    "        label.append('masc')"
   ]
  },
  {
   "cell_type": "code",
   "execution_count": 22,
   "metadata": {},
   "outputs": [
    {
     "data": {
      "image/png": "[encoded data removed]",
      "text/plain": [
       "<Figure size 720x720 with 1 Axes>"
      ]
     },
     "metadata": {
      "needs_background": "light"
     },
     "output_type": "display_data"
    }
   ],
   "source": [
    "tsne_plot(my_word_list, my_word_vectors, 3000, 23,  \"TSNE Visualization of Word-Vectors\") #don't use too many words, won't finish running"
   ]
  },
  {
   "cell_type": "markdown",
   "metadata": {},
   "source": [
    "If your plot doesn't look meaningful, want to see how robust the patterns are, or you want to understand TSNE better, try tuning parameters (especially the perplexity) and take a look at this great [article](https://distill.pub/2016/misread-tsne/)."
   ]
  },
  {
   "cell_type": "code",
   "execution_count": null,
   "metadata": {
    "collapsed": true
   },
   "outputs": [],
   "source": []
  }
 ],
 "metadata": {
  "kernelspec": {
   "display_name": "Python 3",
   "language": "python",
   "name": "python3"
  },
  "language_info": {
   "codemirror_mode": {
    "name": "ipython",
    "version": 3
   },
   "file_extension": ".py",
   "mimetype": "text/x-python",
   "name": "python",
   "nbconvert_exporter": "python",
   "pygments_lexer": "ipython3",
   "version": "3.6.7"
  }
 },
 "nbformat": 4,
 "nbformat_minor": 1
}
